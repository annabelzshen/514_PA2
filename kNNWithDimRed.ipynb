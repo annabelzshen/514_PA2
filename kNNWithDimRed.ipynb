{
 "cells": [
  {
   "cell_type": "markdown",
   "id": "e3c28f8b",
   "metadata": {},
   "source": [
    "importing all the necessary packages"
   ]
  },
  {
   "cell_type": "code",
   "execution_count": 1,
   "id": "ca7f0731",
   "metadata": {},
   "outputs": [],
   "source": [
    "import pandas as pd\n",
    "from sklearn import metrics\n",
    "import numpy as np\n",
    "from yellowbrick.classifier import ConfusionMatrix\n",
    "import matplotlib.pyplot as plt\n",
    "from sklearn import model_selection\n",
    "from sklearn.metrics import classification_report\n",
    "from sklearn.metrics import confusion_matrix\n",
    "from sklearn.metrics import accuracy_score\n",
    "from sklearn.svm import SVC"
   ]
  },
  {
   "cell_type": "markdown",
   "id": "40e81176",
   "metadata": {},
   "source": [
    "I imported the dimensionally reduced dataset used from the SVM notebook here"
   ]
  },
  {
   "cell_type": "code",
   "execution_count": 2,
   "id": "92b88831",
   "metadata": {},
   "outputs": [],
   "source": [
    "from os.path import exists\n",
    "data_dir = 'data'\n",
    "#data_dir = 'Documents/Users/kobo/514-assignment-1/data'\n",
    "assert exists(f'{data_dir}/hk.csv'), 'data file is missing.'\n",
    "hkdata = pd.read_csv(f'{data_dir}/X_hk_final4.csv')\n",
    "mydata = pd.read_csv(f'{data_dir}/X_my_final4.csv')\n",
    "mwdata = pd.read_csv(f'{data_dir}/X_mw_final4.csv')"
   ]
  },
  {
   "cell_type": "code",
   "execution_count": 12,
   "id": "54fed708",
   "metadata": {},
   "outputs": [
    {
     "data": {
      "text/html": [
       "<div>\n",
       "<style scoped>\n",
       "    .dataframe tbody tr th:only-of-type {\n",
       "        vertical-align: middle;\n",
       "    }\n",
       "\n",
       "    .dataframe tbody tr th {\n",
       "        vertical-align: top;\n",
       "    }\n",
       "\n",
       "    .dataframe thead th {\n",
       "        text-align: right;\n",
       "    }\n",
       "</style>\n",
       "<table border=\"1\" class=\"dataframe\">\n",
       "  <thead>\n",
       "    <tr style=\"text-align: right;\">\n",
       "      <th></th>\n",
       "      <th>class</th>\n",
       "      <th>y-box</th>\n",
       "      <th>high</th>\n",
       "      <th>onpix</th>\n",
       "      <th>xy2br</th>\n",
       "    </tr>\n",
       "  </thead>\n",
       "  <tbody>\n",
       "    <tr>\n",
       "      <th>0</th>\n",
       "      <td>0</td>\n",
       "      <td>5</td>\n",
       "      <td>4</td>\n",
       "      <td>4</td>\n",
       "      <td>8</td>\n",
       "    </tr>\n",
       "    <tr>\n",
       "      <th>1</th>\n",
       "      <td>0</td>\n",
       "      <td>9</td>\n",
       "      <td>7</td>\n",
       "      <td>6</td>\n",
       "      <td>9</td>\n",
       "    </tr>\n",
       "    <tr>\n",
       "      <th>2</th>\n",
       "      <td>0</td>\n",
       "      <td>3</td>\n",
       "      <td>1</td>\n",
       "      <td>2</td>\n",
       "      <td>8</td>\n",
       "    </tr>\n",
       "    <tr>\n",
       "      <th>3</th>\n",
       "      <td>0</td>\n",
       "      <td>5</td>\n",
       "      <td>4</td>\n",
       "      <td>3</td>\n",
       "      <td>8</td>\n",
       "    </tr>\n",
       "    <tr>\n",
       "      <th>4</th>\n",
       "      <td>0</td>\n",
       "      <td>12</td>\n",
       "      <td>6</td>\n",
       "      <td>4</td>\n",
       "      <td>5</td>\n",
       "    </tr>\n",
       "    <tr>\n",
       "      <th>...</th>\n",
       "      <td>...</td>\n",
       "      <td>...</td>\n",
       "      <td>...</td>\n",
       "      <td>...</td>\n",
       "      <td>...</td>\n",
       "    </tr>\n",
       "    <tr>\n",
       "      <th>1468</th>\n",
       "      <td>1</td>\n",
       "      <td>9</td>\n",
       "      <td>5</td>\n",
       "      <td>4</td>\n",
       "      <td>11</td>\n",
       "    </tr>\n",
       "    <tr>\n",
       "      <th>1469</th>\n",
       "      <td>1</td>\n",
       "      <td>9</td>\n",
       "      <td>4</td>\n",
       "      <td>2</td>\n",
       "      <td>9</td>\n",
       "    </tr>\n",
       "    <tr>\n",
       "      <th>1470</th>\n",
       "      <td>1</td>\n",
       "      <td>14</td>\n",
       "      <td>8</td>\n",
       "      <td>5</td>\n",
       "      <td>7</td>\n",
       "    </tr>\n",
       "    <tr>\n",
       "      <th>1471</th>\n",
       "      <td>1</td>\n",
       "      <td>1</td>\n",
       "      <td>3</td>\n",
       "      <td>3</td>\n",
       "      <td>11</td>\n",
       "    </tr>\n",
       "    <tr>\n",
       "      <th>1472</th>\n",
       "      <td>1</td>\n",
       "      <td>11</td>\n",
       "      <td>8</td>\n",
       "      <td>5</td>\n",
       "      <td>11</td>\n",
       "    </tr>\n",
       "  </tbody>\n",
       "</table>\n",
       "<p>1473 rows × 5 columns</p>\n",
       "</div>"
      ],
      "text/plain": [
       "      class  y-box  high  onpix  xy2br\n",
       "0         0      5     4      4      8\n",
       "1         0      9     7      6      9\n",
       "2         0      3     1      2      8\n",
       "3         0      5     4      3      8\n",
       "4         0     12     6      4      5\n",
       "...     ...    ...   ...    ...    ...\n",
       "1468      1      9     5      4     11\n",
       "1469      1      9     4      2      9\n",
       "1470      1     14     8      5      7\n",
       "1471      1      1     3      3     11\n",
       "1472      1     11     8      5     11\n",
       "\n",
       "[1473 rows x 5 columns]"
      ]
     },
     "execution_count": 12,
     "metadata": {},
     "output_type": "execute_result"
    }
   ],
   "source": [
    "hkdata = hkdata.drop(['Unnamed: 0'], axis=1)\n",
    "hkdata"
   ]
  },
  {
   "cell_type": "code",
   "execution_count": 11,
   "id": "7465f5b8",
   "metadata": {},
   "outputs": [
    {
     "data": {
      "text/html": [
       "<div>\n",
       "<style scoped>\n",
       "    .dataframe tbody tr th:only-of-type {\n",
       "        vertical-align: middle;\n",
       "    }\n",
       "\n",
       "    .dataframe tbody tr th {\n",
       "        vertical-align: top;\n",
       "    }\n",
       "\n",
       "    .dataframe thead th {\n",
       "        text-align: right;\n",
       "    }\n",
       "</style>\n",
       "<table border=\"1\" class=\"dataframe\">\n",
       "  <thead>\n",
       "    <tr style=\"text-align: right;\">\n",
       "      <th></th>\n",
       "      <th>class</th>\n",
       "      <th>x-box</th>\n",
       "      <th>y-box</th>\n",
       "      <th>width</th>\n",
       "      <th>onpix</th>\n",
       "    </tr>\n",
       "  </thead>\n",
       "  <tbody>\n",
       "    <tr>\n",
       "      <th>0</th>\n",
       "      <td>0</td>\n",
       "      <td>11</td>\n",
       "      <td>15</td>\n",
       "      <td>13</td>\n",
       "      <td>7</td>\n",
       "    </tr>\n",
       "    <tr>\n",
       "      <th>1</th>\n",
       "      <td>0</td>\n",
       "      <td>6</td>\n",
       "      <td>9</td>\n",
       "      <td>8</td>\n",
       "      <td>9</td>\n",
       "    </tr>\n",
       "    <tr>\n",
       "      <th>2</th>\n",
       "      <td>0</td>\n",
       "      <td>7</td>\n",
       "      <td>11</td>\n",
       "      <td>11</td>\n",
       "      <td>9</td>\n",
       "    </tr>\n",
       "    <tr>\n",
       "      <th>3</th>\n",
       "      <td>0</td>\n",
       "      <td>6</td>\n",
       "      <td>9</td>\n",
       "      <td>9</td>\n",
       "      <td>6</td>\n",
       "    </tr>\n",
       "    <tr>\n",
       "      <th>4</th>\n",
       "      <td>0</td>\n",
       "      <td>4</td>\n",
       "      <td>5</td>\n",
       "      <td>7</td>\n",
       "      <td>4</td>\n",
       "    </tr>\n",
       "    <tr>\n",
       "      <th>...</th>\n",
       "      <td>...</td>\n",
       "      <td>...</td>\n",
       "      <td>...</td>\n",
       "      <td>...</td>\n",
       "      <td>...</td>\n",
       "    </tr>\n",
       "    <tr>\n",
       "      <th>1573</th>\n",
       "      <td>1</td>\n",
       "      <td>1</td>\n",
       "      <td>1</td>\n",
       "      <td>3</td>\n",
       "      <td>1</td>\n",
       "    </tr>\n",
       "    <tr>\n",
       "      <th>1574</th>\n",
       "      <td>1</td>\n",
       "      <td>5</td>\n",
       "      <td>7</td>\n",
       "      <td>5</td>\n",
       "      <td>2</td>\n",
       "    </tr>\n",
       "    <tr>\n",
       "      <th>1575</th>\n",
       "      <td>1</td>\n",
       "      <td>4</td>\n",
       "      <td>10</td>\n",
       "      <td>6</td>\n",
       "      <td>1</td>\n",
       "    </tr>\n",
       "    <tr>\n",
       "      <th>1576</th>\n",
       "      <td>1</td>\n",
       "      <td>6</td>\n",
       "      <td>9</td>\n",
       "      <td>5</td>\n",
       "      <td>2</td>\n",
       "    </tr>\n",
       "    <tr>\n",
       "      <th>1577</th>\n",
       "      <td>1</td>\n",
       "      <td>3</td>\n",
       "      <td>9</td>\n",
       "      <td>5</td>\n",
       "      <td>3</td>\n",
       "    </tr>\n",
       "  </tbody>\n",
       "</table>\n",
       "<p>1578 rows × 5 columns</p>\n",
       "</div>"
      ],
      "text/plain": [
       "      class  x-box  y-box  width  onpix\n",
       "0         0     11     15     13      7\n",
       "1         0      6      9      8      9\n",
       "2         0      7     11     11      9\n",
       "3         0      6      9      9      6\n",
       "4         0      4      5      7      4\n",
       "...     ...    ...    ...    ...    ...\n",
       "1573      1      1      1      3      1\n",
       "1574      1      5      7      5      2\n",
       "1575      1      4     10      6      1\n",
       "1576      1      6      9      5      2\n",
       "1577      1      3      9      5      3\n",
       "\n",
       "[1578 rows x 5 columns]"
      ]
     },
     "execution_count": 11,
     "metadata": {},
     "output_type": "execute_result"
    }
   ],
   "source": [
    "mydata = mydata.drop(['Unnamed: 0'], axis=1)\n",
    "mydata"
   ]
  },
  {
   "cell_type": "code",
   "execution_count": 10,
   "id": "8be430d8",
   "metadata": {},
   "outputs": [
    {
     "data": {
      "text/html": [
       "<div>\n",
       "<style scoped>\n",
       "    .dataframe tbody tr th:only-of-type {\n",
       "        vertical-align: middle;\n",
       "    }\n",
       "\n",
       "    .dataframe tbody tr th {\n",
       "        vertical-align: top;\n",
       "    }\n",
       "\n",
       "    .dataframe thead th {\n",
       "        text-align: right;\n",
       "    }\n",
       "</style>\n",
       "<table border=\"1\" class=\"dataframe\">\n",
       "  <thead>\n",
       "    <tr style=\"text-align: right;\">\n",
       "      <th></th>\n",
       "      <th>class</th>\n",
       "      <th>x-box</th>\n",
       "      <th>y-box</th>\n",
       "      <th>width</th>\n",
       "      <th>onpix</th>\n",
       "    </tr>\n",
       "  </thead>\n",
       "  <tbody>\n",
       "    <tr>\n",
       "      <th>0</th>\n",
       "      <td>1</td>\n",
       "      <td>12</td>\n",
       "      <td>14</td>\n",
       "      <td>12</td>\n",
       "      <td>5</td>\n",
       "    </tr>\n",
       "    <tr>\n",
       "      <th>1</th>\n",
       "      <td>1</td>\n",
       "      <td>5</td>\n",
       "      <td>9</td>\n",
       "      <td>6</td>\n",
       "      <td>8</td>\n",
       "    </tr>\n",
       "    <tr>\n",
       "      <th>2</th>\n",
       "      <td>1</td>\n",
       "      <td>3</td>\n",
       "      <td>4</td>\n",
       "      <td>4</td>\n",
       "      <td>2</td>\n",
       "    </tr>\n",
       "    <tr>\n",
       "      <th>3</th>\n",
       "      <td>1</td>\n",
       "      <td>4</td>\n",
       "      <td>8</td>\n",
       "      <td>5</td>\n",
       "      <td>3</td>\n",
       "    </tr>\n",
       "    <tr>\n",
       "      <th>4</th>\n",
       "      <td>1</td>\n",
       "      <td>2</td>\n",
       "      <td>1</td>\n",
       "      <td>3</td>\n",
       "      <td>1</td>\n",
       "    </tr>\n",
       "    <tr>\n",
       "      <th>...</th>\n",
       "      <td>...</td>\n",
       "      <td>...</td>\n",
       "      <td>...</td>\n",
       "      <td>...</td>\n",
       "      <td>...</td>\n",
       "    </tr>\n",
       "    <tr>\n",
       "      <th>1539</th>\n",
       "      <td>0</td>\n",
       "      <td>5</td>\n",
       "      <td>10</td>\n",
       "      <td>6</td>\n",
       "      <td>4</td>\n",
       "    </tr>\n",
       "    <tr>\n",
       "      <th>1540</th>\n",
       "      <td>0</td>\n",
       "      <td>4</td>\n",
       "      <td>3</td>\n",
       "      <td>4</td>\n",
       "      <td>3</td>\n",
       "    </tr>\n",
       "    <tr>\n",
       "      <th>1541</th>\n",
       "      <td>0</td>\n",
       "      <td>5</td>\n",
       "      <td>8</td>\n",
       "      <td>7</td>\n",
       "      <td>7</td>\n",
       "    </tr>\n",
       "    <tr>\n",
       "      <th>1542</th>\n",
       "      <td>0</td>\n",
       "      <td>6</td>\n",
       "      <td>9</td>\n",
       "      <td>10</td>\n",
       "      <td>12</td>\n",
       "    </tr>\n",
       "    <tr>\n",
       "      <th>1543</th>\n",
       "      <td>0</td>\n",
       "      <td>5</td>\n",
       "      <td>6</td>\n",
       "      <td>8</td>\n",
       "      <td>5</td>\n",
       "    </tr>\n",
       "  </tbody>\n",
       "</table>\n",
       "<p>1544 rows × 5 columns</p>\n",
       "</div>"
      ],
      "text/plain": [
       "      class  x-box  y-box  width  onpix\n",
       "0         1     12     14     12      5\n",
       "1         1      5      9      6      8\n",
       "2         1      3      4      4      2\n",
       "3         1      4      8      5      3\n",
       "4         1      2      1      3      1\n",
       "...     ...    ...    ...    ...    ...\n",
       "1539      0      5     10      6      4\n",
       "1540      0      4      3      4      3\n",
       "1541      0      5      8      7      7\n",
       "1542      0      6      9     10     12\n",
       "1543      0      5      6      8      5\n",
       "\n",
       "[1544 rows x 5 columns]"
      ]
     },
     "execution_count": 10,
     "metadata": {},
     "output_type": "execute_result"
    }
   ],
   "source": [
    "mwdata = mwdata.drop(['Unnamed: 0'], axis=1)\n",
    "mwdata"
   ]
  },
  {
   "cell_type": "markdown",
   "id": "b703f4b8",
   "metadata": {},
   "source": [
    "The following cells shows summary statistics of the H-K, M-Y, and M-W data, along with histograms of their distributions."
   ]
  },
  {
   "cell_type": "code",
   "execution_count": 13,
   "id": "63ad5080",
   "metadata": {},
   "outputs": [
    {
     "name": "stdout",
     "output_type": "stream",
     "text": [
      "(1473, 5)\n",
      "             class        y-box         high        onpix        xy2br\n",
      "count  1473.000000  1473.000000  1473.000000  1473.000000  1473.000000\n",
      "mean      0.501697     7.083503     5.283775     4.116768     8.820774\n",
      "std       0.500167     3.320793     2.192406     2.186905     1.596677\n",
      "min       0.000000     0.000000     0.000000     0.000000     4.000000\n",
      "25%       0.000000     5.000000     4.000000     2.000000     8.000000\n",
      "50%       1.000000     7.000000     6.000000     4.000000     8.000000\n",
      "75%       1.000000     9.000000     7.000000     6.000000    10.000000\n",
      "max       1.000000    15.000000    10.000000    11.000000    13.000000\n",
      "class\n",
      "0    734\n",
      "1    739\n",
      "dtype: int64\n"
     ]
    },
    {
     "data": {
      "image/png": "[encoded data removed]",
      "text/plain": [
       "<Figure size 576x396 with 6 Axes>"
      ]
     },
     "metadata": {},
     "output_type": "display_data"
    }
   ],
   "source": [
    "#Return the dimensionality of the DataFrame\n",
    "print(hkdata.shape)\n",
    "#Generates descriptive statistics\n",
    "print(hkdata.describe())\n",
    "#class distribution\n",
    "print(hkdata.groupby('class').size())\n",
    "#histograms\n",
    "hkdata.hist()\n",
    "plt.show()"
   ]
  },
  {
   "cell_type": "code",
   "execution_count": 14,
   "id": "74d6051b",
   "metadata": {},
   "outputs": [
    {
     "name": "stdout",
     "output_type": "stream",
     "text": [
      "(1578, 5)\n",
      "             class        x-box        y-box        width        onpix\n",
      "count  1578.000000  1578.000000  1578.000000  1578.000000  1578.000000\n",
      "mean      0.498099     4.539924     6.830798     5.946768     4.166667\n",
      "std       0.500155     2.106244     3.268945     2.240676     2.813272\n",
      "min       0.000000     0.000000     0.000000     1.000000     0.000000\n",
      "25%       0.000000     3.000000     5.000000     4.000000     2.000000\n",
      "50%       0.000000     4.000000     7.000000     6.000000     4.000000\n",
      "75%       1.000000     6.000000     9.000000     7.000000     6.000000\n",
      "max       1.000000    15.000000    15.000000    15.000000    15.000000\n",
      "class\n",
      "0    792\n",
      "1    786\n",
      "dtype: int64\n"
     ]
    },
    {
     "data": {
      "image/png": "[encoded data removed]",
      "text/plain": [
       "<Figure size 576x396 with 6 Axes>"
      ]
     },
     "metadata": {},
     "output_type": "display_data"
    }
   ],
   "source": [
    "#Return the dimensionality of the DataFrame\n",
    "print(mydata.shape)\n",
    "#Generates descriptive statistics\n",
    "print(mydata.describe())\n",
    "#class distribution\n",
    "print(mydata.groupby('class').size())\n",
    "#histograms\n",
    "mydata.hist()\n",
    "plt.show()"
   ]
  },
  {
   "cell_type": "code",
   "execution_count": 15,
   "id": "853432b1",
   "metadata": {},
   "outputs": [
    {
     "name": "stdout",
     "output_type": "stream",
     "text": [
      "(1544, 5)\n",
      "             class        x-box        y-box        width        onpix\n",
      "count  1544.000000  1544.000000  1544.000000  1544.000000  1544.000000\n",
      "mean      0.487047     5.028497     7.053109     6.564119     5.064767\n",
      "std       0.499994     2.138246     3.350515     2.288019     2.694600\n",
      "min       0.000000     1.000000     0.000000     1.000000     0.000000\n",
      "25%       0.000000     4.000000     5.000000     5.000000     3.000000\n",
      "50%       0.000000     5.000000     8.000000     6.000000     4.000000\n",
      "75%       1.000000     6.000000    10.000000     8.000000     7.000000\n",
      "max       1.000000    15.000000    15.000000    15.000000    15.000000\n",
      "class\n",
      "0    792\n",
      "1    752\n",
      "dtype: int64\n"
     ]
    },
    {
     "data": {
      "image/png": "[encoded data removed]",
      "text/plain": [
       "<Figure size 576x396 with 6 Axes>"
      ]
     },
     "metadata": {},
     "output_type": "display_data"
    }
   ],
   "source": [
    "#Return the dimensionality of the DataFrame\n",
    "print(mwdata.shape)\n",
    "#Generates descriptive statistics\n",
    "print(mwdata.describe())\n",
    "#class distribution\n",
    "print(mwdata.groupby('class').size())\n",
    "#histograms\n",
    "mwdata.hist()\n",
    "plt.show()"
   ]
  },
  {
   "cell_type": "markdown",
   "id": "6307210d",
   "metadata": {},
   "source": [
    "The following cell separates the data into its X and Y subsets"
   ]
  },
  {
   "cell_type": "code",
   "execution_count": 16,
   "id": "c36dc9f1",
   "metadata": {},
   "outputs": [
    {
     "name": "stdout",
     "output_type": "stream",
     "text": [
      "X_hk matrix dimensionality: (1473, 4)\n",
      "Y_hk vector dimensionality: (1473,)\n",
      "X_my matrix dimensionality: (1578, 4)\n",
      "Y_my vector dimensionality: (1578,)\n",
      "X_mw matrix dimensionality: (1544, 4)\n",
      "Y_mw vector dimensionality: (1544,)\n"
     ]
    },
    {
     "data": {
      "text/plain": [
       "array([0, 0, 0, ..., 1, 1, 1])"
      ]
     },
     "execution_count": 16,
     "metadata": {},
     "output_type": "execute_result"
    }
   ],
   "source": [
    "hk_array = hkdata.values\n",
    "X_hk = hk_array[:, 1:17]\n",
    "Y_hk = hk_array[:, 0]\n",
    "print('X_hk matrix dimensionality:', X_hk.shape)\n",
    "print('Y_hk vector dimensionality:', Y_hk.shape)\n",
    "my_array = mydata.values\n",
    "X_my = my_array[:, 1:17]\n",
    "Y_my = my_array[:, 0]\n",
    "print('X_my matrix dimensionality:', X_my.shape)\n",
    "print('Y_my vector dimensionality:', Y_my.shape)\n",
    "mw_array = mwdata.values\n",
    "X_mw = mw_array[:, 1:17]\n",
    "Y_mw = mw_array[:, 0]\n",
    "print('X_mw matrix dimensionality:', X_mw.shape)\n",
    "print('Y_mw vector dimensionality:', Y_mw.shape)\n",
    "Y_hk"
   ]
  },
  {
   "cell_type": "markdown",
   "id": "f7f9a0b9",
   "metadata": {},
   "source": [
    "The following cell splits the dataset into its training and testing sets; a 10% testing set"
   ]
  },
  {
   "cell_type": "code",
   "execution_count": 17,
   "id": "17e4267c",
   "metadata": {},
   "outputs": [],
   "source": [
    "X_hk_train, X_hk_test, Y_hk_train, Y_hk_test = model_selection.train_test_split(X_hk, Y_hk, test_size=0.10, random_state=10)\n",
    "X_my_train, X_my_test, Y_my_train, Y_my_test = model_selection.train_test_split(X_my, Y_my, test_size=0.10, random_state=10)\n",
    "X_mw_train, X_mw_test, Y_mw_train, Y_mw_test = model_selection.train_test_split(X_mw, Y_mw, test_size=0.10, random_state=10)"
   ]
  },
  {
   "cell_type": "code",
   "execution_count": 18,
   "id": "066b1b08",
   "metadata": {},
   "outputs": [],
   "source": [
    "from sklearn.neighbors import KNeighborsClassifier"
   ]
  },
  {
   "cell_type": "markdown",
   "id": "3696ae2a",
   "metadata": {},
   "source": [
    "The following cells use the KNeighborsClassifier and ConfusionMatrix to do an initial test of the true positive, false positive, true negative, and false negative statistics of each dataset. "
   ]
  },
  {
   "cell_type": "code",
   "execution_count": 19,
   "id": "be6755ea",
   "metadata": {},
   "outputs": [],
   "source": [
    "knn_hk = KNeighborsClassifier(n_neighbors=5, metric='manhattan', algorithm='auto', weights='distance', n_jobs=-1)\n",
    "knn_my = KNeighborsClassifier(n_neighbors=5, metric='manhattan', algorithm='auto', weights='distance', n_jobs=-1)\n",
    "knn_mw = KNeighborsClassifier(n_neighbors=5, metric='manhattan', algorithm='auto', weights='distance', n_jobs=-1)\n",
    "\n",
    "cm_hk = ConfusionMatrix(knn_hk, classes=\"H,K\".split(','))\n",
    "cm_my = ConfusionMatrix(knn_my, classes=\"M,Y\".split(','))\n",
    "cm_mw = ConfusionMatrix(knn_mw, classes=\"M,W\".split(','))"
   ]
  },
  {
   "cell_type": "code",
   "execution_count": 20,
   "id": "7b012181",
   "metadata": {
    "scrolled": true
   },
   "outputs": [
    {
     "data": {
      "text/plain": [
       "0.8108108108108109"
      ]
     },
     "execution_count": 20,
     "metadata": {},
     "output_type": "execute_result"
    },
    {
     "data": {
      "image/png": "[encoded data removed]",
      "text/plain": [
       "<Figure size 576x396 with 1 Axes>"
      ]
     },
     "metadata": {},
     "output_type": "display_data"
    }
   ],
   "source": [
    "cm_hk.fit(X_hk_train, Y_hk_train)\n",
    "cm_hk.score(X_hk_test, Y_hk_test)"
   ]
  },
  {
   "cell_type": "code",
   "execution_count": 21,
   "id": "ef25b176",
   "metadata": {
    "scrolled": true
   },
   "outputs": [
    {
     "data": {
      "text/plain": [
       "0.9367088607594937"
      ]
     },
     "execution_count": 21,
     "metadata": {},
     "output_type": "execute_result"
    },
    {
     "data": {
      "image/png": "[encoded data removed]",
      "text/plain": [
       "<Figure size 576x396 with 1 Axes>"
      ]
     },
     "metadata": {},
     "output_type": "display_data"
    }
   ],
   "source": [
    "cm_my.fit(X_my_train, Y_my_train)\n",
    "cm_my.score(X_my_test, Y_my_test)"
   ]
  },
  {
   "cell_type": "code",
   "execution_count": 22,
   "id": "ff1644fe",
   "metadata": {
    "scrolled": true
   },
   "outputs": [
    {
     "data": {
      "text/plain": [
       "0.7225806451612903"
      ]
     },
     "execution_count": 22,
     "metadata": {},
     "output_type": "execute_result"
    },
    {
     "data": {
      "image/png": "[encoded data removed]",
      "text/plain": [
       "<Figure size 576x396 with 1 Axes>"
      ]
     },
     "metadata": {},
     "output_type": "display_data"
    }
   ],
   "source": [
    "cm_mw.fit(X_mw_train, Y_mw_train)\n",
    "cm_mw.score(X_mw_test, Y_mw_test)"
   ]
  },
  {
   "cell_type": "markdown",
   "id": "e59b3495",
   "metadata": {},
   "source": [
    "The following cells predicts and shows the precision, recall, f1-score, and support of each dataset. "
   ]
  },
  {
   "cell_type": "code",
   "execution_count": 23,
   "id": "7ff1be43",
   "metadata": {},
   "outputs": [
    {
     "name": "stdout",
     "output_type": "stream",
     "text": [
      "Accuracy:  0.8108108108108109\n",
      "[[56 12]\n",
      " [16 64]]\n",
      "              precision    recall  f1-score   support\n",
      "\n",
      "           0    0.77778   0.82353   0.80000        68\n",
      "           1    0.84211   0.80000   0.82051        80\n",
      "\n",
      "    accuracy                        0.81081       148\n",
      "   macro avg    0.80994   0.81176   0.81026       148\n",
      "weighted avg    0.81255   0.81081   0.81109       148\n",
      "\n"
     ]
    },
    {
     "data": {
      "text/plain": [
       "<Figure size 576x396 with 0 Axes>"
      ]
     },
     "metadata": {},
     "output_type": "display_data"
    },
    {
     "name": "stdout",
     "output_type": "stream",
     "text": [
      "Accuracy:  0.9367088607594937\n",
      "[[68  3]\n",
      " [ 7 80]]\n",
      "              precision    recall  f1-score   support\n",
      "\n",
      "           0    0.90667   0.95775   0.93151        71\n",
      "           1    0.96386   0.91954   0.94118        87\n",
      "\n",
      "    accuracy                        0.93671       158\n",
      "   macro avg    0.93526   0.93864   0.93634       158\n",
      "weighted avg    0.93816   0.93671   0.93683       158\n",
      "\n"
     ]
    },
    {
     "data": {
      "text/plain": [
       "<Figure size 576x396 with 0 Axes>"
      ]
     },
     "metadata": {},
     "output_type": "display_data"
    },
    {
     "name": "stdout",
     "output_type": "stream",
     "text": [
      "Accuracy:  0.7225806451612903\n",
      "[[69 17]\n",
      " [26 43]]\n",
      "              precision    recall  f1-score   support\n",
      "\n",
      "           0    0.72632   0.80233   0.76243        86\n",
      "           1    0.71667   0.62319   0.66667        69\n",
      "\n",
      "    accuracy                        0.72258       155\n",
      "   macro avg    0.72149   0.71276   0.71455       155\n",
      "weighted avg    0.72202   0.72258   0.71980       155\n",
      "\n"
     ]
    },
    {
     "data": {
      "text/plain": [
       "<Figure size 576x396 with 0 Axes>"
      ]
     },
     "metadata": {},
     "output_type": "display_data"
    },
    {
     "data": {
      "text/plain": [
       "<AxesSubplot:title={'center':'KNeighborsClassifier Confusion Matrix'}, xlabel='Predicted Class', ylabel='True Class'>"
      ]
     },
     "execution_count": 23,
     "metadata": {},
     "output_type": "execute_result"
    }
   ],
   "source": [
    "hk_predictions = cm_hk.predict(X_hk_test)\n",
    "print(\"Accuracy: \", accuracy_score(Y_hk_test, hk_predictions))\n",
    "print(confusion_matrix(Y_hk_test, hk_predictions))\n",
    "print(classification_report(Y_hk_test, hk_predictions, digits=5))\n",
    "cm_hk.poof()\n",
    "\n",
    "my_predictions = cm_my.predict(X_my_test)\n",
    "print(\"Accuracy: \", accuracy_score(Y_my_test, my_predictions))\n",
    "print(confusion_matrix(Y_my_test, my_predictions))\n",
    "print(classification_report(Y_my_test, my_predictions, digits=5))\n",
    "cm_my.poof()\n",
    "\n",
    "mw_predictions = cm_mw.predict(X_mw_test)\n",
    "print(\"Accuracy: \", accuracy_score(Y_mw_test, mw_predictions))\n",
    "print(confusion_matrix(Y_mw_test, mw_predictions))\n",
    "print(classification_report(Y_mw_test, mw_predictions, digits=5))\n",
    "cm_mw.poof()"
   ]
  },
  {
   "cell_type": "code",
   "execution_count": 24,
   "id": "e726aeed",
   "metadata": {},
   "outputs": [],
   "source": [
    "from sklearn.model_selection import GridSearchCV"
   ]
  },
  {
   "cell_type": "markdown",
   "id": "ff284d15",
   "metadata": {},
   "source": [
    "The following cell is now to tune our hyperparamters to find the best distance method, number of neighbors, and weight type for each datatset"
   ]
  },
  {
   "cell_type": "code",
   "execution_count": 25,
   "id": "2c063820",
   "metadata": {},
   "outputs": [
    {
     "name": "stdout",
     "output_type": "stream",
     "text": [
      "Fitting 3 folds for each of 36 candidates, totalling 108 fits\n",
      "Fitting 3 folds for each of 36 candidates, totalling 108 fits\n",
      "Fitting 3 folds for each of 36 candidates, totalling 108 fits\n"
     ]
    },
    {
     "data": {
      "text/plain": [
       "GridSearchCV(cv=3, estimator=KNeighborsClassifier(), n_jobs=-1,\n",
       "             param_grid={'metric': ['minkowski', 'euclidean', 'manhattan'],\n",
       "                         'n_neighbors': [5, 7, 9, 11, 13, 15],\n",
       "                         'weights': ['uniform', 'distance']},\n",
       "             verbose=1)"
      ]
     },
     "execution_count": 25,
     "metadata": {},
     "output_type": "execute_result"
    }
   ],
   "source": [
    "grid_params = { 'n_neighbors' : [5,7,9,11,13,15],\n",
    "               'weights' : ['uniform','distance'],\n",
    "               'metric' : ['minkowski','euclidean','manhattan']}\n",
    "hk_grid = GridSearchCV(KNeighborsClassifier(), grid_params, verbose = 1, cv=3, n_jobs = -1)\n",
    "my_grid = GridSearchCV(KNeighborsClassifier(), grid_params, verbose = 1, cv=3, n_jobs = -1)\n",
    "mw_grid = GridSearchCV(KNeighborsClassifier(), grid_params, verbose = 1, cv=3, n_jobs = -1)\n",
    "# fitting the model for grid search\n",
    "hk_grid.fit(X_hk_train, Y_hk_train)\n",
    "my_grid.fit(X_my_train, Y_my_train)\n",
    "mw_grid.fit(X_mw_train, Y_mw_train)"
   ]
  },
  {
   "cell_type": "code",
   "execution_count": 26,
   "id": "4df0c882",
   "metadata": {},
   "outputs": [
    {
     "name": "stdout",
     "output_type": "stream",
     "text": [
      "{'metric': 'minkowski', 'n_neighbors': 9, 'weights': 'uniform'}\n",
      "KNeighborsClassifier(n_neighbors=9)\n",
      "{'metric': 'minkowski', 'n_neighbors': 7, 'weights': 'distance'}\n",
      "KNeighborsClassifier(n_neighbors=7, weights='distance')\n",
      "{'metric': 'manhattan', 'n_neighbors': 9, 'weights': 'distance'}\n",
      "KNeighborsClassifier(metric='manhattan', n_neighbors=9, weights='distance')\n"
     ]
    }
   ],
   "source": [
    "print(hk_grid.best_params_)\n",
    "print(hk_grid.best_estimator_)\n",
    "\n",
    "print(my_grid.best_params_)\n",
    "print(my_grid.best_estimator_)\n",
    "\n",
    "print(mw_grid.best_params_)\n",
    "print(mw_grid.best_estimator_)"
   ]
  },
  {
   "cell_type": "markdown",
   "id": "b2759bee",
   "metadata": {},
   "source": [
    "The following cell shows the precision, recall, f1-score, and support after hyperparameter tuning. "
   ]
  },
  {
   "cell_type": "code",
   "execution_count": 27,
   "id": "300ca4c1",
   "metadata": {},
   "outputs": [
    {
     "name": "stdout",
     "output_type": "stream",
     "text": [
      "H and K:                precision    recall  f1-score   support\n",
      "\n",
      "           0       0.77      0.81      0.79        68\n",
      "           1       0.83      0.80      0.82        80\n",
      "\n",
      "    accuracy                           0.80       148\n",
      "   macro avg       0.80      0.80      0.80       148\n",
      "weighted avg       0.81      0.80      0.80       148\n",
      "\n",
      "M and Y:                precision    recall  f1-score   support\n",
      "\n",
      "           0       0.91      0.94      0.92        71\n",
      "           1       0.95      0.92      0.94        87\n",
      "\n",
      "    accuracy                           0.93       158\n",
      "   macro avg       0.93      0.93      0.93       158\n",
      "weighted avg       0.93      0.93      0.93       158\n",
      "\n",
      "M and W:                precision    recall  f1-score   support\n",
      "\n",
      "           0       0.74      0.78      0.76        86\n",
      "           1       0.71      0.67      0.69        69\n",
      "\n",
      "    accuracy                           0.73       155\n",
      "   macro avg       0.73      0.72      0.72       155\n",
      "weighted avg       0.73      0.73      0.73       155\n",
      "\n"
     ]
    }
   ],
   "source": [
    "hk_grid_predictions = hk_grid.predict(X_hk_test)\n",
    "print(\"H and K: \",classification_report(Y_hk_test, hk_grid_predictions))\n",
    "my_grid_predictions = my_grid.predict(X_my_test)\n",
    "print(\"M and Y: \", classification_report(Y_my_test, my_grid_predictions))\n",
    "mw_grid_predictions = mw_grid.predict(X_mw_test)\n",
    "print(\"M and W: \", classification_report(Y_mw_test, mw_grid_predictions))"
   ]
  },
  {
   "cell_type": "code",
   "execution_count": 28,
   "id": "5faf1482",
   "metadata": {},
   "outputs": [
    {
     "data": {
      "text/plain": [
       "array([0.77027027, 0.81756757, 0.81756757, 0.82432432, 0.83783784,\n",
       "       0.79054054, 0.81081081, 0.7972973 , 0.80405405, 0.81081081,\n",
       "       0.7972973 , 0.80405405, 0.7972973 , 0.80405405, 0.81756757,\n",
       "       0.81081081, 0.81081081, 0.80405405, 0.81081081, 0.82432432])"
      ]
     },
     "execution_count": 28,
     "metadata": {},
     "output_type": "execute_result"
    }
   ],
   "source": [
    "hk_mean_acc = np.zeros(20)\n",
    "for i in range(1,21):\n",
    "    #Train Model and Predict  \n",
    "    knn = KNeighborsClassifier(n_neighbors = i).fit(X_hk_train, Y_hk_train)\n",
    "    yhat= knn.predict(X_hk_test)\n",
    "    hk_mean_acc[i-1] = metrics.accuracy_score(Y_hk_test, yhat)\n",
    "\n",
    "hk_mean_acc"
   ]
  },
  {
   "cell_type": "markdown",
   "id": "293eaf75",
   "metadata": {},
   "source": [
    "The following cells show our cross validation graphs with hyperparameter tuning for each dataset. "
   ]
  },
  {
   "cell_type": "code",
   "execution_count": 30,
   "id": "aca2b317",
   "metadata": {},
   "outputs": [
    {
     "data": {
      "image/png": "[encoded data removed]",
      "text/plain": [
       "<Figure size 720x432 with 1 Axes>"
      ]
     },
     "metadata": {},
     "output_type": "display_data"
    }
   ],
   "source": [
    "loc = np.arange(1,21,step=1.0)\n",
    "plt.figure(figsize = (10, 6))\n",
    "plt.plot(range(1,21), hk_mean_acc)\n",
    "plt.xticks(loc)\n",
    "plt.xlabel('H K Number of Neighbors ')\n",
    "plt.ylabel('Accuracy')\n",
    "plt.show()"
   ]
  },
  {
   "cell_type": "code",
   "execution_count": 31,
   "id": "658bc570",
   "metadata": {},
   "outputs": [
    {
     "data": {
      "text/plain": [
       "array([0.94303797, 0.90506329, 0.89240506, 0.91772152, 0.92405063,\n",
       "       0.92405063, 0.92405063, 0.91772152, 0.91772152, 0.91772152,\n",
       "       0.91772152, 0.91772152, 0.92405063, 0.92405063, 0.92405063,\n",
       "       0.91139241, 0.93037975, 0.92405063, 0.93670886, 0.93037975])"
      ]
     },
     "execution_count": 31,
     "metadata": {},
     "output_type": "execute_result"
    }
   ],
   "source": [
    "my_mean_acc = np.zeros(20)\n",
    "for i in range(1,21):\n",
    "    #Train Model and Predict  \n",
    "    knn = KNeighborsClassifier(n_neighbors = i).fit(X_my_train, Y_my_train)\n",
    "    my_yhat= knn.predict(X_my_test)\n",
    "    my_mean_acc[i-1] = metrics.accuracy_score(Y_my_test, my_yhat)\n",
    "\n",
    "my_mean_acc"
   ]
  },
  {
   "cell_type": "code",
   "execution_count": 32,
   "id": "06c52d66",
   "metadata": {},
   "outputs": [
    {
     "data": {
      "image/png": "[encoded data removed]",
      "text/plain": [
       "<Figure size 720x432 with 1 Axes>"
      ]
     },
     "metadata": {},
     "output_type": "display_data"
    }
   ],
   "source": [
    "loc = np.arange(1,21,step=1.0)\n",
    "plt.figure(figsize = (10, 6))\n",
    "plt.plot(range(1,21), my_mean_acc)\n",
    "plt.xticks(loc)\n",
    "plt.xlabel('M Y Number of Neighbors ')\n",
    "plt.ylabel('Accuracy')\n",
    "plt.show()"
   ]
  },
  {
   "cell_type": "code",
   "execution_count": 33,
   "id": "ae1f18c1",
   "metadata": {},
   "outputs": [
    {
     "data": {
      "text/plain": [
       "array([0.72903226, 0.69677419, 0.72903226, 0.69677419, 0.72258065,\n",
       "       0.72903226, 0.70967742, 0.70322581, 0.72903226, 0.69677419,\n",
       "       0.69032258, 0.70967742, 0.70322581, 0.69032258, 0.68387097,\n",
       "       0.68387097, 0.67096774, 0.69677419, 0.69677419, 0.69032258])"
      ]
     },
     "execution_count": 33,
     "metadata": {},
     "output_type": "execute_result"
    }
   ],
   "source": [
    "mw_mean_acc = np.zeros(20)\n",
    "for i in range(1,21):\n",
    "    #Train Model and Predict  \n",
    "    knn = KNeighborsClassifier(n_neighbors = i).fit(X_mw_train, Y_mw_train)\n",
    "    mw_yhat= knn.predict(X_mw_test)\n",
    "    mw_mean_acc[i-1] = metrics.accuracy_score(Y_mw_test, mw_yhat)\n",
    "\n",
    "mw_mean_acc"
   ]
  },
  {
   "cell_type": "code",
   "execution_count": 34,
   "id": "efc1babd",
   "metadata": {},
   "outputs": [
    {
     "data": {
      "image/png": "[encoded data removed]",
      "text/plain": [
       "<Figure size 720x432 with 1 Axes>"
      ]
     },
     "metadata": {},
     "output_type": "display_data"
    }
   ],
   "source": [
    "loc = np.arange(1,21,step=1.0)\n",
    "plt.figure(figsize = (10, 6))\n",
    "plt.plot(range(1,21), mw_mean_acc)\n",
    "plt.xticks(loc)\n",
    "plt.xlabel('M W Number of Neighbors ')\n",
    "plt.ylabel('Accuracy')\n",
    "plt.show()"
   ]
  },
  {
   "cell_type": "code",
   "execution_count": null,
   "id": "6aa1f23a",
   "metadata": {},
   "outputs": [],
   "source": []
  }
 ],
 "metadata": {
  "kernelspec": {
   "display_name": "Python 3",
   "language": "python",
   "name": "python3"
  },
  "language_info": {
   "codemirror_mode": {
    "name": "ipython",
    "version": 3
   },
   "file_extension": ".py",
   "mimetype": "text/x-python",
   "name": "python",
   "nbconvert_exporter": "python",
   "pygments_lexer": "ipython3",
   "version": "3.7.11"
  }
 },
 "nbformat": 4,
 "nbformat_minor": 5
}
