{
 "cells": [
  {
   "cell_type": "code",
   "execution_count": 186,
   "id": "1e3e6830",
   "metadata": {},
   "outputs": [
    {
     "name": "stdout",
     "output_type": "stream",
     "text": [
      "Collecting yellowbrick\n",
      "  Downloading yellowbrick-1.5-py3-none-any.whl (282 kB)\n",
      "     |████████████████████████████████| 282 kB 8.7 MB/s            \n",
      "\u001b[?25hCollecting scikit-learn>=1.0.0\n",
      "  Downloading scikit_learn-1.0.2-cp37-cp37m-macosx_10_13_x86_64.whl (7.8 MB)\n",
      "     |████████████████████████████████| 7.8 MB 538 kB/s             \n",
      "\u001b[?25hRequirement already satisfied: numpy>=1.16.0 in /Users/kobo/miniconda3/envs/cse217a/lib/python3.7/site-packages (from yellowbrick) (1.21.6)\n",
      "Requirement already satisfied: matplotlib!=3.0.0,>=2.0.2 in /Users/kobo/miniconda3/envs/cse217a/lib/python3.7/site-packages (from yellowbrick) (3.3.2)\n",
      "Requirement already satisfied: cycler>=0.10.0 in /Users/kobo/miniconda3/envs/cse217a/lib/python3.7/site-packages (from yellowbrick) (0.11.0)\n",
      "Requirement already satisfied: scipy>=1.0.0 in /Users/kobo/miniconda3/envs/cse217a/lib/python3.7/site-packages (from yellowbrick) (1.5.2)\n",
      "Requirement already satisfied: pillow>=6.2.0 in /Users/kobo/miniconda3/envs/cse217a/lib/python3.7/site-packages (from matplotlib!=3.0.0,>=2.0.2->yellowbrick) (8.4.0)\n",
      "Requirement already satisfied: certifi>=2020.06.20 in /Users/kobo/miniconda3/envs/cse217a/lib/python3.7/site-packages (from matplotlib!=3.0.0,>=2.0.2->yellowbrick) (2021.10.8)\n",
      "Requirement already satisfied: python-dateutil>=2.1 in /Users/kobo/miniconda3/envs/cse217a/lib/python3.7/site-packages (from matplotlib!=3.0.0,>=2.0.2->yellowbrick) (2.8.2)\n",
      "Requirement already satisfied: pyparsing!=2.0.4,!=2.1.2,!=2.1.6,>=2.0.3 in /Users/kobo/miniconda3/envs/cse217a/lib/python3.7/site-packages (from matplotlib!=3.0.0,>=2.0.2->yellowbrick) (3.0.4)\n",
      "Requirement already satisfied: kiwisolver>=1.0.1 in /Users/kobo/miniconda3/envs/cse217a/lib/python3.7/site-packages (from matplotlib!=3.0.0,>=2.0.2->yellowbrick) (1.3.1)\n",
      "Requirement already satisfied: joblib>=0.11 in /Users/kobo/miniconda3/envs/cse217a/lib/python3.7/site-packages (from scikit-learn>=1.0.0->yellowbrick) (1.1.0)\n",
      "Requirement already satisfied: threadpoolctl>=2.0.0 in /Users/kobo/miniconda3/envs/cse217a/lib/python3.7/site-packages (from scikit-learn>=1.0.0->yellowbrick) (2.2.0)\n",
      "Requirement already satisfied: six>=1.5 in /Users/kobo/miniconda3/envs/cse217a/lib/python3.7/site-packages (from python-dateutil>=2.1->matplotlib!=3.0.0,>=2.0.2->yellowbrick) (1.16.0)\n",
      "Installing collected packages: scikit-learn, yellowbrick\n",
      "  Attempting uninstall: scikit-learn\n",
      "    Found existing installation: scikit-learn 0.23.2\n",
      "    Uninstalling scikit-learn-0.23.2:\n",
      "      Successfully uninstalled scikit-learn-0.23.2\n",
      "Successfully installed scikit-learn-1.0.2 yellowbrick-1.5\n",
      "Note: you may need to restart the kernel to use updated packages.\n"
     ]
    }
   ],
   "source": [
    "pip install yellowbrick"
   ]
  },
  {
   "cell_type": "code",
   "execution_count": 1,
   "id": "963d8feb",
   "metadata": {},
   "outputs": [],
   "source": [
    "import pandas as pd\n",
    "from yellowbrick.classifier import ConfusionMatrix\n",
    "import matplotlib.pyplot as plt\n",
    "from sklearn import model_selection\n",
    "from sklearn.metrics import classification_report\n",
    "from sklearn.metrics import confusion_matrix\n",
    "from sklearn.metrics import accuracy_score\n",
    "from sklearn.svm import SVC"
   ]
  },
  {
   "cell_type": "code",
   "execution_count": 2,
   "id": "86d37346",
   "metadata": {},
   "outputs": [],
   "source": [
    "from os.path import exists\n",
    "data_dir = 'data'\n",
    "#data_dir = 'Documents/Users/kobo/514-assignment-1/data'\n",
    "assert exists(f'{data_dir}/letter-recognition.data'), 'data file is missing.'\n",
    "data = pd.read_csv(f'{data_dir}/letter-recognition.data')"
   ]
  },
  {
   "cell_type": "code",
   "execution_count": 3,
   "id": "77223cec",
   "metadata": {},
   "outputs": [],
   "source": [
    "names = ['class',\n",
    "         'x-box',\n",
    "         'y-box',\n",
    "         'width',\n",
    "         'high',\n",
    "         'onpix',\n",
    "         'x-bar',\n",
    "         'y-bar',\n",
    "         'x2bar',\n",
    "         'y2bar',\n",
    "         'xybar',\n",
    "         'x2ybr',\n",
    "         'xy2br',\n",
    "         'x-ege',\n",
    "         'xegvy',\n",
    "         'y-ege',\n",
    "         'yegvx']\n",
    "\n",
    "dataset = pd.read_csv(f'{data_dir}/letter-recognition.data', names=names)"
   ]
  },
  {
   "cell_type": "code",
   "execution_count": 6,
   "id": "afd1ae58",
   "metadata": {},
   "outputs": [
    {
     "name": "stdout",
     "output_type": "stream",
     "text": [
      "(20000, 17)\n",
      "              x-box         y-box         width         high         onpix  \\\n",
      "count  20000.000000  20000.000000  20000.000000  20000.00000  20000.000000   \n",
      "mean       4.023550      7.035500      5.121850      5.37245      3.505850   \n",
      "std        1.913212      3.304555      2.014573      2.26139      2.190458   \n",
      "min        0.000000      0.000000      0.000000      0.00000      0.000000   \n",
      "25%        3.000000      5.000000      4.000000      4.00000      2.000000   \n",
      "50%        4.000000      7.000000      5.000000      6.00000      3.000000   \n",
      "75%        5.000000      9.000000      6.000000      7.00000      5.000000   \n",
      "max       15.000000     15.000000     15.000000     15.00000     15.000000   \n",
      "\n",
      "              x-bar         y-bar         x2bar         y2bar         xybar  \\\n",
      "count  20000.000000  20000.000000  20000.000000  20000.000000  20000.000000   \n",
      "mean       6.897600      7.500450      4.628600      5.178650      8.282050   \n",
      "std        2.026035      2.325354      2.699968      2.380823      2.488475   \n",
      "min        0.000000      0.000000      0.000000      0.000000      0.000000   \n",
      "25%        6.000000      6.000000      3.000000      4.000000      7.000000   \n",
      "50%        7.000000      7.000000      4.000000      5.000000      8.000000   \n",
      "75%        8.000000      9.000000      6.000000      7.000000     10.000000   \n",
      "max       15.000000     15.000000     15.000000     15.000000     15.000000   \n",
      "\n",
      "             x2ybr         xy2br         x-ege         xegvy         y-ege  \\\n",
      "count  20000.00000  20000.000000  20000.000000  20000.000000  20000.000000   \n",
      "mean       6.45400      7.929000      3.046100      8.338850      3.691750   \n",
      "std        2.63107      2.080619      2.332541      1.546722      2.567073   \n",
      "min        0.00000      0.000000      0.000000      0.000000      0.000000   \n",
      "25%        5.00000      7.000000      1.000000      8.000000      2.000000   \n",
      "50%        6.00000      8.000000      3.000000      8.000000      3.000000   \n",
      "75%        8.00000      9.000000      4.000000      9.000000      5.000000   \n",
      "max       15.00000     15.000000     15.000000     15.000000     15.000000   \n",
      "\n",
      "             yegvx  \n",
      "count  20000.00000  \n",
      "mean       7.80120  \n",
      "std        1.61747  \n",
      "min        0.00000  \n",
      "25%        7.00000  \n",
      "50%        8.00000  \n",
      "75%        9.00000  \n",
      "max       15.00000  \n",
      "class\n",
      "A    789\n",
      "B    766\n",
      "C    736\n",
      "D    805\n",
      "E    768\n",
      "F    775\n",
      "G    773\n",
      "H    734\n",
      "I    755\n",
      "J    747\n",
      "K    739\n",
      "L    761\n",
      "M    792\n",
      "N    783\n",
      "O    753\n",
      "P    803\n",
      "Q    783\n",
      "R    758\n",
      "S    748\n",
      "T    796\n",
      "U    813\n",
      "V    764\n",
      "W    752\n",
      "X    787\n",
      "Y    786\n",
      "Z    734\n",
      "dtype: int64\n"
     ]
    },
    {
     "data": {
      "image/png": "[encoded data removed]",
      "text/plain": [
       "<Figure size 576x396 with 16 Axes>"
      ]
     },
     "metadata": {},
     "output_type": "display_data"
    }
   ],
   "source": [
    "#Return the dimensionality of the DataFrame\n",
    "print(dataset.shape)\n",
    "\n",
    "#Generates descriptive statistics\n",
    "print(dataset.describe())\n",
    "\n",
    "#class distribution\n",
    "print(dataset.groupby('class').size())\n",
    "\n",
    "#histograms\n",
    "dataset.hist()\n",
    "plt.show()"
   ]
  },
  {
   "cell_type": "code",
   "execution_count": 7,
   "id": "98830791",
   "metadata": {},
   "outputs": [
    {
     "name": "stdout",
     "output_type": "stream",
     "text": [
      "X matrix dimensionality: (20000, 16)\n",
      "Y vector dimensionality: (20000,)\n"
     ]
    }
   ],
   "source": [
    "array = dataset.values\n",
    "\n",
    "X = array[:, 1:17]\n",
    "Y = array[:, 0]\n",
    "\n",
    "print('X matrix dimensionality:', X.shape)\n",
    "print('Y vector dimensionality:', Y.shape)"
   ]
  },
  {
   "cell_type": "code",
   "execution_count": 8,
   "id": "77bc8dc2",
   "metadata": {},
   "outputs": [],
   "source": [
    "# split the data into a training set and a test set\n",
    "X_train, X_validation, Y_train, Y_validation = model_selection.train_test_split(X, Y, test_size=0.10,\n",
    "                                                                                random_state=10)\n"
   ]
  },
  {
   "cell_type": "code",
   "execution_count": 11,
   "id": "bef3bb24",
   "metadata": {},
   "outputs": [],
   "source": [
    "svc = SVC(kernel='rbf', gamma='auto', C=6)\n",
    "\n",
    "cm = ConfusionMatrix(svc, classes=\"A,B,C,D,E,F,G,H,I,J,K,L,M,N,O,P,Q,R,S,T,U,V,W,X,Y,Z\".split(','))"
   ]
  },
  {
   "cell_type": "code",
   "execution_count": 12,
   "id": "bbe63b85",
   "metadata": {},
   "outputs": [
    {
     "data": {
      "text/plain": [
       "0.978"
      ]
     },
     "execution_count": 12,
     "metadata": {},
     "output_type": "execute_result"
    },
    {
     "data": {
      "image/png": "[encoded data removed]",
      "text/plain": [
       "<Figure size 576x396 with 1 Axes>"
      ]
     },
     "metadata": {},
     "output_type": "display_data"
    }
   ],
   "source": [
    "cm.fit(X_train, Y_train)\n",
    "\n",
    "cm.score(X_validation, Y_validation)"
   ]
  },
  {
   "cell_type": "code",
   "execution_count": 13,
   "id": "012b4dd5",
   "metadata": {},
   "outputs": [
    {
     "name": "stdout",
     "output_type": "stream",
     "text": [
      "Accuracy:  0.978\n",
      "[[73  0  0  0  0  0  0  0  0  0  0  0  0  0  0  0  0  0  0  0  0  0  0  0\n",
      "   0  0]\n",
      " [ 0 65  0  0  0  0  0  1  0  0  0  0  0  0  0  0  0  0  0  0  0  1  0  0\n",
      "   0  0]\n",
      " [ 0  0 68  0  0  0  0  0  0  0  0  0  0  0  0  0  0  0  0  0  0  0  0  0\n",
      "   0  0]\n",
      " [ 0  0  0 82  0  0  0  1  0  0  0  0  0  0  0  0  0  0  0  0  0  0  0  0\n",
      "   0  0]\n",
      " [ 0  2  1  0 75  0  1  0  0  0  0  1  0  0  0  1  0  0  0  0  0  0  0  0\n",
      "   0  0]\n",
      " [ 0  0  0  0  0 63  0  0  0  0  0  0  0  0  0  1  0  0  0  0  0  0  0  0\n",
      "   0  0]\n",
      " [ 0  0  0  0  0  0 87  0  0  0  0  0  1  0  1  0  0  0  0  0  0  0  0  0\n",
      "   0  0]\n",
      " [ 0  0  0  2  1  0  1 65  0  0  2  0  0  1  0  0  0  0  0  0  0  0  0  0\n",
      "   0  0]\n",
      " [ 0  0  0  0  0  0  0  0 79  3  0  0  0  0  0  0  0  0  0  0  0  0  0  0\n",
      "   0  0]\n",
      " [ 0  0  0  0  0  0  0  1  0 69  0  0  0  0  0  0  0  0  0  0  0  0  0  0\n",
      "   0  0]\n",
      " [ 0  0  0  0  0  0  0  0  0  0 73  0  0  0  0  0  0  1  0  0  0  0  0  1\n",
      "   0  0]\n",
      " [ 0  0  0  0  0  0  0  1  0  0  0 75  0  0  0  0  0  0  0  0  0  0  0  0\n",
      "   0  0]\n",
      " [ 0  0  0  0  0  0  0  0  0  0  0  0 73  1  0  0  0  0  0  0  0  0  0  0\n",
      "   0  0]\n",
      " [ 0  1  0  0  0  0  0  0  0  0  0  0  0 77  0  0  0  0  0  0  0  0  0  0\n",
      "   0  0]\n",
      " [ 0  0  0  0  0  0  0  0  0  0  0  0  0  0 77  0  0  0  0  0  1  0  1  0\n",
      "   0  0]\n",
      " [ 0  0  0  0  0  0  0  0  0  0  0  1  0  0  0 74  1  0  0  0  0  0  0  0\n",
      "   0  0]\n",
      " [ 0  0  0  0  0  0  0  0  0  0  0  0  0  0  0  0 88  0  0  0  0  0  0  0\n",
      "   0  0]\n",
      " [ 0  3  0  0  0  0  0  0  0  0  1  0  0  0  0  0  1 88  0  0  0  0  0  0\n",
      "   0  0]\n",
      " [ 0  0  0  0  0  0  0  0  0  0  0  0  0  0  0  0  0  0 51  0  0  0  0  0\n",
      "   0  0]\n",
      " [ 0  0  0  0  0  2  0  0  0  0  0  0  0  0  0  0  0  0  0 79  0  0  0  0\n",
      "   0  0]\n",
      " [ 0  0  0  0  0  0  0  0  0  0  0  0  0  0  0  0  0  0  0  0 88  0  0  0\n",
      "   0  0]\n",
      " [ 0  2  0  0  0  0  0  0  0  0  0  0  0  0  0  0  0  0  0  0  0 74  0  0\n",
      "   0  0]\n",
      " [ 0  0  0  0  0  0  0  0  0  0  0  0  1  0  0  0  0  0  0  0  0  0 61  0\n",
      "   0  0]\n",
      " [ 0  0  0  0  0  0  0  0  0  0  0  0  0  0  0  0  0  0  0  0  0  0  0 86\n",
      "   0  0]\n",
      " [ 0  0  0  0  0  0  0  0  0  0  0  0  0  0  0  0  0  0  0  1  0  1  0  0\n",
      "  87  0]\n",
      " [ 0  0  0  0  0  0  0  0  0  0  0  0  0  0  0  0  0  0  0  0  0  0  0  0\n",
      "   0 79]]\n",
      "              precision    recall  f1-score   support\n",
      "\n",
      "           A    1.00000   1.00000   1.00000        73\n",
      "           B    0.89041   0.97015   0.92857        67\n",
      "           C    0.98551   1.00000   0.99270        68\n",
      "           D    0.97619   0.98795   0.98204        83\n",
      "           E    0.98684   0.92593   0.95541        81\n",
      "           F    0.96923   0.98438   0.97674        64\n",
      "           G    0.97753   0.97753   0.97753        89\n",
      "           H    0.94203   0.90278   0.92199        72\n",
      "           I    1.00000   0.96341   0.98137        82\n",
      "           J    0.95833   0.98571   0.97183        70\n",
      "           K    0.96053   0.97333   0.96689        75\n",
      "           L    0.97403   0.98684   0.98039        76\n",
      "           M    0.97333   0.98649   0.97987        74\n",
      "           N    0.97468   0.98718   0.98089        78\n",
      "           O    0.98718   0.97468   0.98089        79\n",
      "           P    0.97368   0.97368   0.97368        76\n",
      "           Q    0.97778   1.00000   0.98876        88\n",
      "           R    0.98876   0.94624   0.96703        93\n",
      "           S    1.00000   1.00000   1.00000        51\n",
      "           T    0.98750   0.97531   0.98137        81\n",
      "           U    0.98876   1.00000   0.99435        88\n",
      "           V    0.97368   0.97368   0.97368        76\n",
      "           W    0.98387   0.98387   0.98387        62\n",
      "           X    0.98851   1.00000   0.99422        86\n",
      "           Y    1.00000   0.97753   0.98864        89\n",
      "           Z    1.00000   1.00000   1.00000        79\n",
      "\n",
      "    accuracy                        0.97800      2000\n",
      "   macro avg    0.97763   0.97833   0.97780      2000\n",
      "weighted avg    0.97834   0.97800   0.97799      2000\n",
      "\n"
     ]
    },
    {
     "data": {
      "text/plain": [
       "<Figure size 576x396 with 0 Axes>"
      ]
     },
     "metadata": {},
     "output_type": "display_data"
    },
    {
     "data": {
      "text/plain": [
       "<AxesSubplot:title={'center':'SVC Confusion Matrix'}, xlabel='Predicted Class', ylabel='True Class'>"
      ]
     },
     "execution_count": 13,
     "metadata": {},
     "output_type": "execute_result"
    }
   ],
   "source": [
    "# predict the responses for test dataset\n",
    "predictions = cm.predict(X_validation)\n",
    "# accuracy classification score\n",
    "print(\"Accuracy: \", accuracy_score(Y_validation, predictions))\n",
    "# compute confusion matrix\n",
    "print(confusion_matrix(Y_validation, predictions))\n",
    "# text report showing the main classification metrics\n",
    "print(classification_report(Y_validation, predictions, digits=5))\n",
    "\n",
    "cm.poof()"
   ]
  },
  {
   "cell_type": "code",
   "execution_count": 14,
   "id": "d405ee5f",
   "metadata": {},
   "outputs": [],
   "source": [
    "from sklearn.model_selection import GridSearchCV"
   ]
  },
  {
   "cell_type": "code",
   "execution_count": 15,
   "id": "df17f555",
   "metadata": {
    "scrolled": true
   },
   "outputs": [
    {
     "name": "stdout",
     "output_type": "stream",
     "text": [
      "Fitting 5 folds for each of 25 candidates, totalling 125 fits\n",
      "[CV 1/5] END ........C=0.1, gamma=1, kernel=rbf;, score=0.046 total time=  20.6s\n",
      "[CV 2/5] END ........C=0.1, gamma=1, kernel=rbf;, score=0.044 total time=  20.2s\n",
      "[CV 3/5] END ........C=0.1, gamma=1, kernel=rbf;, score=0.045 total time=  20.5s\n",
      "[CV 4/5] END ........C=0.1, gamma=1, kernel=rbf;, score=0.045 total time=  20.7s\n",
      "[CV 5/5] END ........C=0.1, gamma=1, kernel=rbf;, score=0.043 total time=  20.4s\n",
      "[CV 1/5] END ......C=0.1, gamma=0.1, kernel=rbf;, score=0.878 total time=  17.1s\n",
      "[CV 2/5] END ......C=0.1, gamma=0.1, kernel=rbf;, score=0.868 total time=  16.4s\n",
      "[CV 3/5] END ......C=0.1, gamma=0.1, kernel=rbf;, score=0.874 total time=  17.8s\n",
      "[CV 4/5] END ......C=0.1, gamma=0.1, kernel=rbf;, score=0.874 total time=  16.6s\n",
      "[CV 5/5] END ......C=0.1, gamma=0.1, kernel=rbf;, score=0.856 total time=  17.8s\n",
      "[CV 1/5] END .....C=0.1, gamma=0.01, kernel=rbf;, score=0.827 total time=  10.4s\n",
      "[CV 2/5] END .....C=0.1, gamma=0.01, kernel=rbf;, score=0.826 total time=  10.0s\n",
      "[CV 3/5] END .....C=0.1, gamma=0.01, kernel=rbf;, score=0.830 total time=   9.8s\n",
      "[CV 4/5] END .....C=0.1, gamma=0.01, kernel=rbf;, score=0.825 total time=   9.7s\n",
      "[CV 5/5] END .....C=0.1, gamma=0.01, kernel=rbf;, score=0.818 total time=   9.9s\n",
      "[CV 1/5] END ....C=0.1, gamma=0.001, kernel=rbf;, score=0.634 total time=  14.5s\n",
      "[CV 2/5] END ....C=0.1, gamma=0.001, kernel=rbf;, score=0.631 total time=  14.6s\n",
      "[CV 3/5] END ....C=0.1, gamma=0.001, kernel=rbf;, score=0.651 total time=  14.8s\n",
      "[CV 4/5] END ....C=0.1, gamma=0.001, kernel=rbf;, score=0.635 total time=  14.5s\n",
      "[CV 5/5] END ....C=0.1, gamma=0.001, kernel=rbf;, score=0.632 total time=  14.0s\n",
      "[CV 1/5] END ...C=0.1, gamma=0.0001, kernel=rbf;, score=0.136 total time=  19.9s\n",
      "[CV 2/5] END ...C=0.1, gamma=0.0001, kernel=rbf;, score=0.129 total time=  21.7s\n",
      "[CV 3/5] END ...C=0.1, gamma=0.0001, kernel=rbf;, score=0.126 total time=  21.2s\n",
      "[CV 4/5] END ...C=0.1, gamma=0.0001, kernel=rbf;, score=0.130 total time=  20.1s\n",
      "[CV 5/5] END ...C=0.1, gamma=0.0001, kernel=rbf;, score=0.129 total time=  21.9s\n",
      "[CV 1/5] END ..........C=1, gamma=1, kernel=rbf;, score=0.445 total time=  24.1s\n",
      "[CV 2/5] END ..........C=1, gamma=1, kernel=rbf;, score=0.459 total time=  23.4s\n",
      "[CV 3/5] END ..........C=1, gamma=1, kernel=rbf;, score=0.454 total time=  22.1s\n",
      "[CV 4/5] END ..........C=1, gamma=1, kernel=rbf;, score=0.452 total time=  22.9s\n",
      "[CV 5/5] END ..........C=1, gamma=1, kernel=rbf;, score=0.467 total time=  22.9s\n",
      "[CV 1/5] END ........C=1, gamma=0.1, kernel=rbf;, score=0.966 total time=  15.1s\n",
      "[CV 2/5] END ........C=1, gamma=0.1, kernel=rbf;, score=0.968 total time=  14.3s\n",
      "[CV 3/5] END ........C=1, gamma=0.1, kernel=rbf;, score=0.977 total time=  15.7s\n",
      "[CV 4/5] END ........C=1, gamma=0.1, kernel=rbf;, score=0.974 total time=  14.6s\n",
      "[CV 5/5] END ........C=1, gamma=0.1, kernel=rbf;, score=0.973 total time=  15.5s\n",
      "[CV 1/5] END .......C=1, gamma=0.01, kernel=rbf;, score=0.937 total time=   5.9s\n",
      "[CV 2/5] END .......C=1, gamma=0.01, kernel=rbf;, score=0.936 total time=   6.0s\n",
      "[CV 3/5] END .......C=1, gamma=0.01, kernel=rbf;, score=0.941 total time=   5.8s\n",
      "[CV 4/5] END .......C=1, gamma=0.01, kernel=rbf;, score=0.938 total time=   5.8s\n",
      "[CV 5/5] END .......C=1, gamma=0.01, kernel=rbf;, score=0.936 total time=   5.5s\n",
      "[CV 1/5] END ......C=1, gamma=0.001, kernel=rbf;, score=0.812 total time=   8.6s\n",
      "[CV 2/5] END ......C=1, gamma=0.001, kernel=rbf;, score=0.816 total time=   8.8s\n",
      "[CV 3/5] END ......C=1, gamma=0.001, kernel=rbf;, score=0.816 total time=   9.1s\n",
      "[CV 4/5] END ......C=1, gamma=0.001, kernel=rbf;, score=0.811 total time=   9.0s\n",
      "[CV 5/5] END ......C=1, gamma=0.001, kernel=rbf;, score=0.806 total time=   8.9s\n",
      "[CV 1/5] END .....C=1, gamma=0.0001, kernel=rbf;, score=0.642 total time=  14.9s\n",
      "[CV 2/5] END .....C=1, gamma=0.0001, kernel=rbf;, score=0.637 total time=  15.0s\n",
      "[CV 3/5] END .....C=1, gamma=0.0001, kernel=rbf;, score=0.660 total time=  15.4s\n",
      "[CV 4/5] END .....C=1, gamma=0.0001, kernel=rbf;, score=0.642 total time=  14.8s\n",
      "[CV 5/5] END .....C=1, gamma=0.0001, kernel=rbf;, score=0.637 total time=  14.7s\n",
      "[CV 1/5] END .........C=10, gamma=1, kernel=rbf;, score=0.482 total time=  22.1s\n",
      "[CV 2/5] END .........C=10, gamma=1, kernel=rbf;, score=0.496 total time=  27.6s\n",
      "[CV 3/5] END .........C=10, gamma=1, kernel=rbf;, score=0.494 total time=  27.8s\n",
      "[CV 4/5] END .........C=10, gamma=1, kernel=rbf;, score=0.489 total time=  34.9s\n",
      "[CV 5/5] END .........C=10, gamma=1, kernel=rbf;, score=0.500 total time=  28.7s\n",
      "[CV 1/5] END .......C=10, gamma=0.1, kernel=rbf;, score=0.965 total time=  15.0s\n",
      "[CV 2/5] END .......C=10, gamma=0.1, kernel=rbf;, score=0.968 total time=  14.9s\n",
      "[CV 3/5] END .......C=10, gamma=0.1, kernel=rbf;, score=0.980 total time=  15.2s\n",
      "[CV 4/5] END .......C=10, gamma=0.1, kernel=rbf;, score=0.976 total time=  16.2s\n",
      "[CV 5/5] END .......C=10, gamma=0.1, kernel=rbf;, score=0.976 total time=  14.9s\n",
      "[CV 1/5] END ......C=10, gamma=0.01, kernel=rbf;, score=0.966 total time=   4.4s\n",
      "[CV 2/5] END ......C=10, gamma=0.01, kernel=rbf;, score=0.965 total time=   4.1s\n",
      "[CV 3/5] END ......C=10, gamma=0.01, kernel=rbf;, score=0.975 total time=   4.3s\n",
      "[CV 4/5] END ......C=10, gamma=0.01, kernel=rbf;, score=0.966 total time=   4.2s\n",
      "[CV 5/5] END ......C=10, gamma=0.01, kernel=rbf;, score=0.967 total time=   4.2s\n",
      "[CV 1/5] END .....C=10, gamma=0.001, kernel=rbf;, score=0.884 total time=   5.4s\n",
      "[CV 2/5] END .....C=10, gamma=0.001, kernel=rbf;, score=0.889 total time=   5.3s\n",
      "[CV 3/5] END .....C=10, gamma=0.001, kernel=rbf;, score=0.894 total time=   5.3s\n",
      "[CV 4/5] END .....C=10, gamma=0.001, kernel=rbf;, score=0.886 total time=   5.3s\n",
      "[CV 5/5] END .....C=10, gamma=0.001, kernel=rbf;, score=0.881 total time=   5.3s\n",
      "[CV 1/5] END ....C=10, gamma=0.0001, kernel=rbf;, score=0.799 total time=   8.8s\n",
      "[CV 2/5] END ....C=10, gamma=0.0001, kernel=rbf;, score=0.804 total time=   8.6s\n",
      "[CV 3/5] END ....C=10, gamma=0.0001, kernel=rbf;, score=0.801 total time=   8.7s\n",
      "[CV 4/5] END ....C=10, gamma=0.0001, kernel=rbf;, score=0.797 total time=  10.6s\n",
      "[CV 5/5] END ....C=10, gamma=0.0001, kernel=rbf;, score=0.793 total time=   9.5s\n",
      "[CV 1/5] END ........C=100, gamma=1, kernel=rbf;, score=0.482 total time=  23.1s\n",
      "[CV 2/5] END ........C=100, gamma=1, kernel=rbf;, score=0.496 total time=  22.7s\n",
      "[CV 3/5] END ........C=100, gamma=1, kernel=rbf;, score=0.494 total time=  23.0s\n",
      "[CV 4/5] END ........C=100, gamma=1, kernel=rbf;, score=0.489 total time=  22.9s\n",
      "[CV 5/5] END ........C=100, gamma=1, kernel=rbf;, score=0.500 total time=  22.3s\n",
      "[CV 1/5] END ......C=100, gamma=0.1, kernel=rbf;, score=0.965 total time=  15.1s\n",
      "[CV 2/5] END ......C=100, gamma=0.1, kernel=rbf;, score=0.968 total time=  14.6s\n",
      "[CV 3/5] END ......C=100, gamma=0.1, kernel=rbf;, score=0.980 total time=  14.6s\n",
      "[CV 4/5] END ......C=100, gamma=0.1, kernel=rbf;, score=0.976 total time=  14.4s\n",
      "[CV 5/5] END ......C=100, gamma=0.1, kernel=rbf;, score=0.976 total time=  14.4s\n",
      "[CV 1/5] END .....C=100, gamma=0.01, kernel=rbf;, score=0.966 total time=   4.2s\n",
      "[CV 2/5] END .....C=100, gamma=0.01, kernel=rbf;, score=0.968 total time=   4.1s\n",
      "[CV 3/5] END .....C=100, gamma=0.01, kernel=rbf;, score=0.973 total time=   4.2s\n",
      "[CV 4/5] END .....C=100, gamma=0.01, kernel=rbf;, score=0.971 total time=   4.1s\n",
      "[CV 5/5] END .....C=100, gamma=0.01, kernel=rbf;, score=0.970 total time=   4.2s\n",
      "[CV 1/5] END ....C=100, gamma=0.001, kernel=rbf;, score=0.930 total time=   4.2s\n",
      "[CV 2/5] END ....C=100, gamma=0.001, kernel=rbf;, score=0.934 total time=   4.3s\n",
      "[CV 3/5] END ....C=100, gamma=0.001, kernel=rbf;, score=0.942 total time=   4.3s\n",
      "[CV 4/5] END ....C=100, gamma=0.001, kernel=rbf;, score=0.938 total time=   4.3s\n",
      "[CV 5/5] END ....C=100, gamma=0.001, kernel=rbf;, score=0.929 total time=   4.3s\n",
      "[CV 1/5] END ...C=100, gamma=0.0001, kernel=rbf;, score=0.846 total time=   5.8s\n",
      "[CV 2/5] END ...C=100, gamma=0.0001, kernel=rbf;, score=0.854 total time=   5.8s\n",
      "[CV 3/5] END ...C=100, gamma=0.0001, kernel=rbf;, score=0.859 total time=   6.0s\n",
      "[CV 4/5] END ...C=100, gamma=0.0001, kernel=rbf;, score=0.854 total time=   5.6s\n",
      "[CV 5/5] END ...C=100, gamma=0.0001, kernel=rbf;, score=0.848 total time=   5.5s\n",
      "[CV 1/5] END .......C=1000, gamma=1, kernel=rbf;, score=0.482 total time=  25.6s\n"
     ]
    },
    {
     "name": "stdout",
     "output_type": "stream",
     "text": [
      "[CV 2/5] END .......C=1000, gamma=1, kernel=rbf;, score=0.496 total time=  23.0s\n",
      "[CV 3/5] END .......C=1000, gamma=1, kernel=rbf;, score=0.494 total time=  28.3s\n",
      "[CV 4/5] END .......C=1000, gamma=1, kernel=rbf;, score=0.489 total time=  26.3s\n",
      "[CV 5/5] END .......C=1000, gamma=1, kernel=rbf;, score=0.500 total time=  23.8s\n",
      "[CV 1/5] END .....C=1000, gamma=0.1, kernel=rbf;, score=0.965 total time=  14.6s\n",
      "[CV 2/5] END .....C=1000, gamma=0.1, kernel=rbf;, score=0.968 total time=  16.5s\n",
      "[CV 3/5] END .....C=1000, gamma=0.1, kernel=rbf;, score=0.980 total time=  14.9s\n",
      "[CV 4/5] END .....C=1000, gamma=0.1, kernel=rbf;, score=0.976 total time=  14.9s\n",
      "[CV 5/5] END .....C=1000, gamma=0.1, kernel=rbf;, score=0.976 total time=  14.3s\n",
      "[CV 1/5] END ....C=1000, gamma=0.01, kernel=rbf;, score=0.966 total time=   4.0s\n",
      "[CV 2/5] END ....C=1000, gamma=0.01, kernel=rbf;, score=0.966 total time=   4.1s\n",
      "[CV 3/5] END ....C=1000, gamma=0.01, kernel=rbf;, score=0.973 total time=   4.7s\n",
      "[CV 4/5] END ....C=1000, gamma=0.01, kernel=rbf;, score=0.971 total time=   4.0s\n",
      "[CV 5/5] END ....C=1000, gamma=0.01, kernel=rbf;, score=0.968 total time=   4.1s\n",
      "[CV 1/5] END ...C=1000, gamma=0.001, kernel=rbf;, score=0.951 total time=   4.0s\n",
      "[CV 2/5] END ...C=1000, gamma=0.001, kernel=rbf;, score=0.952 total time=   4.1s\n",
      "[CV 3/5] END ...C=1000, gamma=0.001, kernel=rbf;, score=0.963 total time=   4.1s\n",
      "[CV 4/5] END ...C=1000, gamma=0.001, kernel=rbf;, score=0.953 total time=   4.1s\n",
      "[CV 5/5] END ...C=1000, gamma=0.001, kernel=rbf;, score=0.948 total time=   4.9s\n",
      "[CV 1/5] END ..C=1000, gamma=0.0001, kernel=rbf;, score=0.880 total time=   5.3s\n",
      "[CV 2/5] END ..C=1000, gamma=0.0001, kernel=rbf;, score=0.885 total time=   4.6s\n",
      "[CV 3/5] END ..C=1000, gamma=0.0001, kernel=rbf;, score=0.892 total time=   4.6s\n",
      "[CV 4/5] END ..C=1000, gamma=0.0001, kernel=rbf;, score=0.881 total time=   4.6s\n",
      "[CV 5/5] END ..C=1000, gamma=0.0001, kernel=rbf;, score=0.875 total time=   4.6s\n"
     ]
    },
    {
     "data": {
      "text/plain": [
       "GridSearchCV(estimator=SVC(),\n",
       "             param_grid={'C': [0.1, 1, 10, 100, 1000],\n",
       "                         'gamma': [1, 0.1, 0.01, 0.001, 0.0001],\n",
       "                         'kernel': ['rbf']},\n",
       "             verbose=3)"
      ]
     },
     "execution_count": 15,
     "metadata": {},
     "output_type": "execute_result"
    }
   ],
   "source": [
    "param_grid = {'C': [0.1, 1, 10, 100, 1000], \n",
    "              'gamma': [1, 0.1, 0.01, 0.001, 0.0001],\n",
    "              'kernel': ['rbf']} \n",
    "  \n",
    "grid = GridSearchCV(SVC(), param_grid, refit = True, verbose = 3)\n",
    "  \n",
    "# fitting the model for grid search\n",
    "grid.fit(X_train, Y_train)"
   ]
  },
  {
   "cell_type": "code",
   "execution_count": 16,
   "id": "e2e849f4",
   "metadata": {},
   "outputs": [
    {
     "name": "stdout",
     "output_type": "stream",
     "text": [
      "{'C': 100, 'gamma': 0.1, 'kernel': 'rbf'}\n",
      "SVC(C=100, gamma=0.1)\n"
     ]
    }
   ],
   "source": [
    "# print best parameter after tuning\n",
    "print(grid.best_params_)\n",
    "  \n",
    "# print how our model looks after hyper-parameter tuning\n",
    "print(grid.best_estimator_)"
   ]
  },
  {
   "cell_type": "code",
   "execution_count": 17,
   "id": "8f79bb36",
   "metadata": {},
   "outputs": [
    {
     "name": "stdout",
     "output_type": "stream",
     "text": [
      "              precision    recall  f1-score   support\n",
      "\n",
      "           A       0.99      1.00      0.99        73\n",
      "           B       0.92      0.97      0.94        67\n",
      "           C       0.97      1.00      0.99        68\n",
      "           D       0.99      0.98      0.98        83\n",
      "           E       0.99      0.93      0.96        81\n",
      "           F       0.95      0.98      0.97        64\n",
      "           G       0.98      0.97      0.97        89\n",
      "           H       0.94      0.92      0.93        72\n",
      "           I       1.00      0.98      0.99        82\n",
      "           J       0.97      0.97      0.97        70\n",
      "           K       0.96      0.99      0.97        75\n",
      "           L       0.97      0.99      0.98        76\n",
      "           M       0.94      0.99      0.96        74\n",
      "           N       0.96      0.99      0.97        78\n",
      "           O       0.97      0.96      0.97        79\n",
      "           P       0.97      0.97      0.97        76\n",
      "           Q       0.98      1.00      0.99        88\n",
      "           R       0.98      0.95      0.96        93\n",
      "           S       1.00      1.00      1.00        51\n",
      "           T       0.99      0.96      0.97        81\n",
      "           U       0.99      1.00      0.99        88\n",
      "           V       0.97      0.97      0.97        76\n",
      "           W       0.98      0.97      0.98        62\n",
      "           X       0.99      1.00      0.99        86\n",
      "           Y       0.99      0.97      0.98        89\n",
      "           Z       1.00      0.97      0.99        79\n",
      "\n",
      "    accuracy                           0.97      2000\n",
      "   macro avg       0.97      0.98      0.97      2000\n",
      "weighted avg       0.98      0.97      0.97      2000\n",
      "\n"
     ]
    }
   ],
   "source": [
    "grid_predictions = grid.predict(X_validation)\n",
    "  \n",
    "# print classification report\n",
    "print(classification_report(Y_validation, grid_predictions))"
   ]
  },
  {
   "cell_type": "code",
   "execution_count": 20,
   "id": "da0e7b97",
   "metadata": {},
   "outputs": [],
   "source": [
    "from sklearn.metrics import precision_recall_curve\n",
    "from sklearn.metrics import roc_curve\n",
    "from sklearn.preprocessing import LabelEncoder\n",
    "from sklearn import metrics"
   ]
  },
  {
   "cell_type": "code",
   "execution_count": 21,
   "id": "93cae2cd",
   "metadata": {},
   "outputs": [],
   "source": [
    "le=LabelEncoder()\n",
    "Y_validation[:]=le.fit_transform(Y_validation[:])\n",
    "Y_validation = Y_validation.astype(int)\n",
    "grid_predictions[:]=le.fit_transform(grid_predictions[:])"
   ]
  },
  {
   "cell_type": "code",
   "execution_count": null,
   "id": "ef673590",
   "metadata": {},
   "outputs": [],
   "source": []
  }
 ],
 "metadata": {
  "kernelspec": {
   "display_name": "Python 3",
   "language": "python",
   "name": "python3"
  },
  "language_info": {
   "codemirror_mode": {
    "name": "ipython",
    "version": 3
   },
   "file_extension": ".py",
   "mimetype": "text/x-python",
   "name": "python",
   "nbconvert_exporter": "python",
   "pygments_lexer": "ipython3",
   "version": "3.7.11"
  }
 },
 "nbformat": 4,
 "nbformat_minor": 5
}
